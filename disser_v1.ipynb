{
 "cells": [
  {
   "cell_type": "code",
   "execution_count": 1,
   "metadata": {},
   "outputs": [],
   "source": [
    "import scipy.io\n",
    "import numpy as np\n",
    "import pandas as pd\n",
    "from savReaderWriter import SavReader"
   ]
  },
  {
   "cell_type": "markdown",
   "metadata": {},
   "source": [
    "**Загружаем dataset**\n",
    "\n",
    "Надо сделать как можно раньше, чтобы был полный список колонок\n",
    "Процесс долгий, на инстансе amazon t3.xlarge (16 cpu, 16Gb mem, 32Gb swap, default ssd) занимает больше часа. При этом \n",
    "занимается 10Gb mem + 9.5Gb swap."
   ]
  },
  {
   "cell_type": "code",
   "execution_count": 2,
   "metadata": {
    "scrolled": true
   },
   "outputs": [
    {
     "data": {
      "text/html": [
       "<div>\n",
       "<style scoped>\n",
       "    .dataframe tbody tr th:only-of-type {\n",
       "        vertical-align: middle;\n",
       "    }\n",
       "\n",
       "    .dataframe tbody tr th {\n",
       "        vertical-align: top;\n",
       "    }\n",
       "\n",
       "    .dataframe thead th {\n",
       "        text-align: right;\n",
       "    }\n",
       "</style>\n",
       "<table border=\"1\" class=\"dataframe\">\n",
       "  <thead>\n",
       "    <tr style=\"text-align: right;\">\n",
       "      <th></th>\n",
       "      <th>ID_W</th>\n",
       "      <th>IDIND</th>\n",
       "      <th>YEAR</th>\n",
       "      <th>REDID_I</th>\n",
       "      <th>ID_I</th>\n",
       "      <th>ID_H</th>\n",
       "      <th>ORIGSM</th>\n",
       "      <th>INWGT</th>\n",
       "      <th>REGION</th>\n",
       "      <th>PSU</th>\n",
       "      <th>...</th>\n",
       "      <th>S6</th>\n",
       "      <th>S7</th>\n",
       "      <th>S1.1_L</th>\n",
       "      <th>S1.2_L</th>\n",
       "      <th>S2_L</th>\n",
       "      <th>S3_L</th>\n",
       "      <th>S4_L</th>\n",
       "      <th>S5_L</th>\n",
       "      <th>S6_L</th>\n",
       "      <th>S7_L</th>\n",
       "    </tr>\n",
       "  </thead>\n",
       "  <tbody>\n",
       "    <tr>\n",
       "      <th>0</th>\n",
       "      <td>5.0</td>\n",
       "      <td>1.0</td>\n",
       "      <td>1994.0</td>\n",
       "      <td>101.0</td>\n",
       "      <td>100101.0</td>\n",
       "      <td>1001.0</td>\n",
       "      <td>1.0</td>\n",
       "      <td>1.006194</td>\n",
       "      <td>1.0</td>\n",
       "      <td>6.0</td>\n",
       "      <td>...</td>\n",
       "      <td>NaN</td>\n",
       "      <td>NaN</td>\n",
       "      <td>NaN</td>\n",
       "      <td>NaN</td>\n",
       "      <td>NaN</td>\n",
       "      <td>NaN</td>\n",
       "      <td>NaN</td>\n",
       "      <td>NaN</td>\n",
       "      <td>NaN</td>\n",
       "      <td>NaN</td>\n",
       "    </tr>\n",
       "    <tr>\n",
       "      <th>1</th>\n",
       "      <td>5.0</td>\n",
       "      <td>2.0</td>\n",
       "      <td>1994.0</td>\n",
       "      <td>102.0</td>\n",
       "      <td>100102.0</td>\n",
       "      <td>1001.0</td>\n",
       "      <td>1.0</td>\n",
       "      <td>1.120193</td>\n",
       "      <td>1.0</td>\n",
       "      <td>6.0</td>\n",
       "      <td>...</td>\n",
       "      <td>NaN</td>\n",
       "      <td>NaN</td>\n",
       "      <td>NaN</td>\n",
       "      <td>NaN</td>\n",
       "      <td>NaN</td>\n",
       "      <td>NaN</td>\n",
       "      <td>NaN</td>\n",
       "      <td>NaN</td>\n",
       "      <td>NaN</td>\n",
       "      <td>NaN</td>\n",
       "    </tr>\n",
       "    <tr>\n",
       "      <th>2</th>\n",
       "      <td>5.0</td>\n",
       "      <td>3.0</td>\n",
       "      <td>1994.0</td>\n",
       "      <td>201.0</td>\n",
       "      <td>100201.0</td>\n",
       "      <td>1002.0</td>\n",
       "      <td>1.0</td>\n",
       "      <td>0.904263</td>\n",
       "      <td>1.0</td>\n",
       "      <td>6.0</td>\n",
       "      <td>...</td>\n",
       "      <td>NaN</td>\n",
       "      <td>NaN</td>\n",
       "      <td>NaN</td>\n",
       "      <td>NaN</td>\n",
       "      <td>NaN</td>\n",
       "      <td>NaN</td>\n",
       "      <td>NaN</td>\n",
       "      <td>NaN</td>\n",
       "      <td>NaN</td>\n",
       "      <td>NaN</td>\n",
       "    </tr>\n",
       "    <tr>\n",
       "      <th>3</th>\n",
       "      <td>5.0</td>\n",
       "      <td>4.0</td>\n",
       "      <td>1994.0</td>\n",
       "      <td>202.0</td>\n",
       "      <td>100202.0</td>\n",
       "      <td>1002.0</td>\n",
       "      <td>1.0</td>\n",
       "      <td>0.956155</td>\n",
       "      <td>1.0</td>\n",
       "      <td>6.0</td>\n",
       "      <td>...</td>\n",
       "      <td>NaN</td>\n",
       "      <td>NaN</td>\n",
       "      <td>NaN</td>\n",
       "      <td>NaN</td>\n",
       "      <td>NaN</td>\n",
       "      <td>NaN</td>\n",
       "      <td>NaN</td>\n",
       "      <td>NaN</td>\n",
       "      <td>NaN</td>\n",
       "      <td>NaN</td>\n",
       "    </tr>\n",
       "    <tr>\n",
       "      <th>4</th>\n",
       "      <td>5.0</td>\n",
       "      <td>5.0</td>\n",
       "      <td>1994.0</td>\n",
       "      <td>203.0</td>\n",
       "      <td>100203.0</td>\n",
       "      <td>1002.0</td>\n",
       "      <td>1.0</td>\n",
       "      <td>1.137990</td>\n",
       "      <td>1.0</td>\n",
       "      <td>6.0</td>\n",
       "      <td>...</td>\n",
       "      <td>NaN</td>\n",
       "      <td>NaN</td>\n",
       "      <td>NaN</td>\n",
       "      <td>NaN</td>\n",
       "      <td>NaN</td>\n",
       "      <td>NaN</td>\n",
       "      <td>NaN</td>\n",
       "      <td>NaN</td>\n",
       "      <td>NaN</td>\n",
       "      <td>NaN</td>\n",
       "    </tr>\n",
       "  </tbody>\n",
       "</table>\n",
       "<p>5 rows × 2706 columns</p>\n",
       "</div>"
      ],
      "text/plain": [
       "   ID_W  IDIND    YEAR  REDID_I      ID_I    ID_H  ORIGSM     INWGT  REGION  \\\n",
       "0   5.0    1.0  1994.0    101.0  100101.0  1001.0     1.0  1.006194     1.0   \n",
       "1   5.0    2.0  1994.0    102.0  100102.0  1001.0     1.0  1.120193     1.0   \n",
       "2   5.0    3.0  1994.0    201.0  100201.0  1002.0     1.0  0.904263     1.0   \n",
       "3   5.0    4.0  1994.0    202.0  100202.0  1002.0     1.0  0.956155     1.0   \n",
       "4   5.0    5.0  1994.0    203.0  100203.0  1002.0     1.0  1.137990     1.0   \n",
       "\n",
       "   PSU  ...  S6  S7  S1.1_L  S1.2_L  S2_L  S3_L  S4_L  S5_L  S6_L  S7_L  \n",
       "0  6.0  ... NaN NaN     NaN     NaN   NaN   NaN   NaN   NaN   NaN   NaN  \n",
       "1  6.0  ... NaN NaN     NaN     NaN   NaN   NaN   NaN   NaN   NaN   NaN  \n",
       "2  6.0  ... NaN NaN     NaN     NaN   NaN   NaN   NaN   NaN   NaN   NaN  \n",
       "3  6.0  ... NaN NaN     NaN     NaN   NaN   NaN   NaN   NaN   NaN   NaN  \n",
       "4  6.0  ... NaN NaN     NaN     NaN   NaN   NaN   NaN   NaN   NaN   NaN  \n",
       "\n",
       "[5 rows x 2706 columns]"
      ]
     },
     "execution_count": 2,
     "metadata": {},
     "output_type": "execute_result"
    }
   ],
   "source": [
    "with SavReader('USER_RLMS-HSE_IND_1994_2019_v2_rus.sav', ioUtf8 = True) as reader:\n",
    "    source_original_data = pd.DataFrame(reader.all(), columns = reader.header)\n",
    "source_original_data.head()"
   ]
  },
  {
   "cell_type": "markdown",
   "metadata": {},
   "source": [
    "**Для лучшей читаемости вынесем ключевые колонки в константы**\n",
    "\n",
    "Так как кодификация столбцов не самая очевидная, некоторые используемые дальше столбцы закодируем более говорящими именами. Codebook взят отсюда: https://www.hse.ru/data/2020/08/30/1110539394/%D0%91%D0%94_2019_ind_codebook.pdf"
   ]
  },
  {
   "cell_type": "code",
   "execution_count": 103,
   "metadata": {},
   "outputs": [],
   "source": [
    "class Columns:\n",
    "    ALL = source_original_data.columns\n",
    "    \n",
    "    WAVE_ID = 'ID_W'\n",
    "    PERSON_ID = 'IDIND'\n",
    "    RESEARCH_YEAR = 'YEAR'\n",
    "    INTERVIEW_YEAR = 'INT_Y'\n",
    "    MARRIAGE_STATE = 'MARST'\n",
    "    TOWN_STATUS = 'STATUS'\n",
    "    REGION = 'REGION'\n",
    "    PROFESSION_GROUP = 'OCCUP08'\n",
    "    PROFESSION_CODE = 'J2COD08'\n",
    "    PROFESSION_DIRECTION = 'J4.1'\n",
    "    EDUCATION = 'DIPLOM'\n",
    "    FIRST_FIME_FOR_PERSON = 'H4.1'  # 1 = yes, 2 = no\n",
    "    GENDER = 'H5'\n",
    "    YEAR_OF_BIRTH = 'H6'\n",
    "    AGE = 'AGE'\n",
    "    WORK_STATE = 'J1'  # 1 = working, 2-4 = vacantion, 5 = not working\n",
    "    WORK_HAPINESS = 'J1.1.1'\n",
    "    HAVE_PROBLEMS_WITH_MOVEMENT = 'M135' # 1 - ok, 2,3 - not ok\n",
    "    \n",
    "    TARGET = WORK_STATE  # take 1 & 5 only\n",
    "    INTERESTING_POSSIBLE_TARGETS = [WORK_STATE, 'J1.1.1', 'J1.1.2', 'J1.1.3', 'J1.1.4', 'J1.1.5', 'J5A']\n",
    "    HEALTH_CRITICAL_NEED_HELP = ['M23', 'M24.1', 'M24.2', 'M24.3', 'M24.4', 'M24.5']\n",
    "    HEALTH_CRITICAL = [HAVE_PROBLEMS_WITH_MOVEMENT] + HEALTH_CRITICAL_NEED_HELP\n",
    "    HEALTH_JUNK = {'M151', 'M20.9M'} # Don't use it as features\n",
    "    HEALTH_DESCRIPTIONS = [\n",
    "        column_name\n",
    "        for column_name in ALL\n",
    "            if column_name.startswith('M') and column_name not in {'M151', 'M20.9M', 'MARST'}\n",
    "    ]\n",
    "    \n",
    "    SOCIAL = [AGE, TOWN_STATUS, REGION, MARRIAGE_STATE, EDUCATION, GENDER]"
   ]
  },
  {
   "cell_type": "markdown",
   "metadata": {},
   "source": [
    "**Чистим данные**\n",
    "\n",
    "1. Оставляем людей с возрастом на момент опроса 45-65 лет (см. `Columns.AGE`)\n",
    "2. Оставляем людей из последних пяти фолн опроса (т.е. `Columns.INTERVIEW_YEAR >= 2010`)\n",
    "3. Убираем из выборки людей, прикованных к кровати и имеющих проблемы с едой или одеванием (см. `Columns.HEALTH_CRITICAL`)\n",
    "4. Убираем из выборки людей, находящихся в отпуске (см. `Columns.WORK_STATE`)"
   ]
  },
  {
   "cell_type": "code",
   "execution_count": 11,
   "metadata": {},
   "outputs": [],
   "source": [
    "def filter_data(dataset, title, condition):\n",
    "    result = dataset[condition(dataset)]\n",
    "    num_filtered, num_rest = dataset.shape[0] - result.shape[0], result.shape[0]\n",
    "    print('{title} condition filters {num_filtered} elements, {num_rest} is still there'.format(title=title, num_filtered=num_filtered, num_rest=num_rest))\n",
    "    return result"
   ]
  },
  {
   "cell_type": "code",
   "execution_count": 104,
   "metadata": {},
   "outputs": [
    {
     "name": "stdout",
     "output_type": "stream",
     "text": [
      "1. AGE condition filters 289421 elements, 82467 is still there\n",
      "2. INTERVIEW_YEAR condition filters 36903 elements, 45564 is still there\n",
      "3.1. HAVE_PROBLEMS_WITH_MOVEMENT condition filters 0 elements, 45564 is still there\n",
      "3.1. HEALTH_CRITICAL_NEED_HELP[0] condition filters 0 elements, 45564 is still there\n",
      "3.2. HEALTH_CRITICAL_NEED_HELP[1] condition filters 0 elements, 45564 is still there\n",
      "3.3. HEALTH_CRITICAL_NEED_HELP[2] condition filters 0 elements, 45564 is still there\n",
      "3.4. HEALTH_CRITICAL_NEED_HELP[3] condition filters 0 elements, 45564 is still there\n",
      "3.5. HEALTH_CRITICAL_NEED_HELP[4] condition filters 0 elements, 45564 is still there\n",
      "3.6. HEALTH_CRITICAL_NEED_HELP[5] condition filters 0 elements, 45564 is still there\n",
      "4. WORK_STATE condition filters 178 elements, 45386 is still there\n"
     ]
    }
   ],
   "source": [
    "filtered_data = source_original_data\n",
    "filtered_data = filter_data(filtered_data, '1. AGE', lambda dataset: (45 <= dataset[Columns.AGE]) & (dataset[Columns.AGE] <= 62))\n",
    "filtered_data = filter_data(filtered_data, '2. INTERVIEW_YEAR', lambda dataset: (dataset[Columns.INTERVIEW_YEAR] >= 2010))\n",
    "filtered_data = filter_data(filtered_data, '3.1. HAVE_PROBLEMS_WITH_MOVEMENT', lambda dataset: (dataset[Columns.HAVE_PROBLEMS_WITH_MOVEMENT] != 2) & (dataset[Columns.HAVE_PROBLEMS_WITH_MOVEMENT] != 3))\n",
    "for index, feature in enumerate(Columns.HEALTH_CRITICAL_NEED_HELP):\n",
    "    filtered_data = filter_data(filtered_data, '3.{}. HEALTH_CRITICAL_NEED_HELP[{}]'.format(index + 1, index), lambda dataset: (dataset[feature] != 1))\n",
    "filtered_data = filter_data(filtered_data, '4. WORK_STATE', lambda dataset: (dataset[Columns.WORK_STATE] == 1) | (dataset[Columns.WORK_STATE] == 5))"
   ]
  },
  {
   "cell_type": "markdown",
   "metadata": {},
   "source": [
    "### Обучение и валидация"
   ]
  },
  {
   "cell_type": "code",
   "execution_count": 17,
   "metadata": {},
   "outputs": [],
   "source": [
    "from sklearn.ensemble import RandomForestClassifier\n",
    "from sklearn.model_selection import train_test_split\n",
    "from sklearn.metrics import *"
   ]
  },
  {
   "cell_type": "markdown",
   "metadata": {},
   "source": [
    "Определим функцию, которая обучает данный классификатор на заданных признаках и предсказывает другой заданный признак\n",
    "\n",
    "1. Заполняем все невалидные значения (`NaN`, `null` etc.) с невалидным значением (`-1.0`)\n",
    "2. Разбиваем случайным образом датасет на train и test подмножества в соотношении 2:1\n",
    "3. Обучаем классификатор на train множестве\n",
    "4. Считаем и возвращаем метрики качества на test-множестве:\n",
    "    1. `feature_weights`: Веса признаков\n",
    "    2. `precision`, `recall`, `f1`: Точность, полноту и f1-score полученного класификатора\n",
    "    3. `confusion_matrix`: Матрица ошибок - какое количесто"
   ]
  },
  {
   "cell_type": "code",
   "execution_count": 127,
   "metadata": {},
   "outputs": [],
   "source": [
    "from collections import namedtuple\n",
    "\n",
    "ClassifierStats = namedtuple('ClassifierStats', ['classifier', 'feature_weights', 'precision', 'recall', 'f1', 'confusion_matrix'])\n",
    "\n",
    "def print_classifier_stats(stats):\n",
    "    print('Confusion matrix:')\n",
    "    print(stats.confusion_matrix)\n",
    "    print('Error fraction: {}'.format(1.0 * (stats.confusion_matrix[0, 1] + stats.confusion_matrix[1, 0]) / stats.confusion_matrix.sum()))\n",
    "    print('f1 score: {}'.format(stats.f1))\n",
    "    print('precision score: {}'.format(stats.precision))\n",
    "    print('recall score: {}'.format(stats.recall))"
   ]
  },
  {
   "cell_type": "code",
   "execution_count": 113,
   "metadata": {},
   "outputs": [],
   "source": [
    "def train_test(df, source_columns, target_column, classifier):\n",
    "    shape = df.shape\n",
    "    subdf = df[source_columns + [target_column]].fillna(value=-1.0)\n",
    "    source_array = subdf[source_columns].to_numpy()\n",
    "    target_array = subdf[target_column].to_numpy()\n",
    "    source_train, source_test, target_train, target_test = train_test_split(source_array, target_array)\n",
    "    \n",
    "    classifier.fit(source_train, target_train)\n",
    "    \n",
    "    raw_feature_weights = classifier.feature_importances_ if hasattr(classifier, 'feature_importances_') else classifier.coef_\n",
    "    feature_weights = sorted(list(zip(source_columns, raw_feature_weights)), key=lambda x: -x[1])\n",
    "\n",
    "    predicted = classifier.predict(source_test)\n",
    "    return ClassifierStats(\n",
    "        classifier,\n",
    "        feature_weights,\n",
    "        precision_score(target_test == 1, predicted == 1),\n",
    "        recall_score(target_test == 1, predicted == 1),\n",
    "        f1_score(target_test == 1, predicted == 1),\n",
    "        confusion_matrix(target_test, predicted)\n",
    "    )"
   ]
  },
  {
   "cell_type": "markdown",
   "metadata": {},
   "source": [
    "Для оценки качества выборки запустим обучение на отфильтрованном множестве. В качестве признаков будем использовать медицинские и социальные признаки (`Columns.HEALTH_DESCRIPTIONS`, `Columns.SOCIAL`), в качестве классификатора - лес случайных деревьев принятия решений (random forest)"
   ]
  },
  {
   "cell_type": "code",
   "execution_count": 128,
   "metadata": {},
   "outputs": [
    {
     "name": "stdout",
     "output_type": "stream",
     "text": [
      "Confusion matrix:\n",
      "[[6682  589]\n",
      " [1863 2213]]\n",
      "Error fraction: 0.21609235921388914\n",
      "f1 score: 0.8449671219018715\n",
      "precision score: 0.781977764774722\n",
      "recall score: 0.9189932608994636\n"
     ]
    }
   ],
   "source": [
    "total_stats = train_test(filtered_data, Columns.HEALTH_DESCRIPTIONS + Columns.SOCIAL, Columns.TARGET, RandomForestClassifier(n_estimators=100, n_jobs=-1))\n",
    "print_classifier_stats(total_stats)"
   ]
  },
  {
   "cell_type": "markdown",
   "metadata": {},
   "source": [
    "Имеем точность 0.78 при полноте 0.91, что можно считать неплохим первым результатом"
   ]
  },
  {
   "cell_type": "markdown",
   "metadata": {},
   "source": [
    "Посмотрим на распределение важности влияния признаков на результат. Вертикальной красной линией обозначается начало признаков со строго нулевым влиянием на результат"
   ]
  },
  {
   "cell_type": "code",
   "execution_count": 39,
   "metadata": {},
   "outputs": [],
   "source": [
    "import matplotlib.pyplot as plt"
   ]
  },
  {
   "cell_type": "code",
   "execution_count": 106,
   "metadata": {},
   "outputs": [
    {
     "data": {
      "image/png": "[encoded data removed]",
      "text/plain": [
       "<Figure size 1080x576 with 1 Axes>"
      ]
     },
     "metadata": {
      "needs_background": "light"
     },
     "output_type": "display_data"
    }
   ],
   "source": [
    "plt.figure(figsize=(15, 8))\n",
    "plt.plot(range(len(total_stats.feature_weights)), [x[1] for x in total_stats.feature_weights])\n",
    "plt.axvline(sum(x[1] > 0.0 for x in total_stats.feature_weights), color='r', linewidth=0.5)\n",
    "plt.title('Feature weights')\n",
    "plt.xlabel('feature index')\n",
    "plt.ylabel('feature importance')\n",
    "plt.grid()\n",
    "plt.show()"
   ]
  },
  {
   "cell_type": "markdown",
   "metadata": {},
   "source": [
    "Рассмотрим первые 30 признаков, отсортированных по степени влияния на результат"
   ]
  },
  {
   "cell_type": "code",
   "execution_count": 107,
   "metadata": {},
   "outputs": [
    {
     "name": "stdout",
     "output_type": "stream",
     "text": [
      "feature AGE     has weight 0.09072\n",
      "feature M1      has weight 0.04690\n",
      "feature REGION  has weight 0.04491\n",
      "feature M2      has weight 0.04481\n",
      "feature DIPLOM  has weight 0.03056\n",
      "feature STATUS  has weight 0.02675\n",
      "feature M152    has weight 0.02504\n",
      "feature M3      has weight 0.02474\n",
      "feature M20.9Y  has weight 0.02262\n",
      "feature MARST   has weight 0.02165\n",
      "feature M20.8   has weight 0.01959\n",
      "feature M20.7   has weight 0.01860\n",
      "feature M2.1    has weight 0.01760\n",
      "feature M72     has weight 0.01299\n",
      "feature M170    has weight 0.01172\n",
      "feature M58.1   has weight 0.01151\n",
      "feature M149    has weight 0.01109\n",
      "feature M75     has weight 0.01089\n",
      "feature M20.61  has weight 0.01076\n",
      "feature M114    has weight 0.01074\n",
      "feature M64     has weight 0.01019\n",
      "feature M131    has weight 0.00970\n",
      "feature M84.5B  has weight 0.00939\n",
      "feature M20.66  has weight 0.00936\n",
      "feature M20.65  has weight 0.00914\n",
      "feature M117.0  has weight 0.00891\n",
      "feature M78     has weight 0.00886\n",
      "feature M84.5D  has weight 0.00883\n",
      "feature M81     has weight 0.00876\n",
      "feature M418    has weight 0.00874\n"
     ]
    }
   ],
   "source": [
    "for feature_name, feature_weight in total_stats.feature_weights[:30]:\n",
    "    print('feature {:7} has weight {:.5f}'.format(feature_name, feature_weight))"
   ]
  },
  {
   "cell_type": "markdown",
   "metadata": {},
   "source": [
    "Расшифровка полученных признаков:\n",
    "\n",
    "| Код признака | Расшифровка | Вес признака |\n",
    "| --- | :- | --- |\n",
    "| AGE     | Количество полных лет | 0.09072 |\n",
    "| M1      | Сколько килограмм Вы весите? | 0.04690 |\n",
    "| REGION  | Регион | 0.04491 |\n",
    "| M2      | А какой у Вас рост в сантиметрах? | 0.04481 |\n",
    "| DIPLOM  | ЗАКОНЧЕННОЕ ОБРАЗОВАНИЕ (ГРУППА) | 0.03056 |\n",
    "| STATUS  | ТИП НАСЕЛЕННОГО ПУНКТА | 0.02675 |\n",
    "| M152    | Удается ли Вам в целом питаться регулярно, не реже 3-х раз в день, изо дня в день? | 0.02504 |\n",
    "| M3      | Скажите, пожалуйста, как Вы оцениваете Ваше здоровье? | 0.02474 |\n",
    "| M20.9Y  | Когда Вам была назначена инвалидность? (ГОД) | 0.02262 |\n",
    "| MARST   | СЕМЕЙНОЕ ПОЛОЖЕНИЕ В ТЕКУЩЕЙ ВОЛНЕ | 0.02165 |\n",
    "| M20.8   | Какая группа инвалидности Вам назначена? | 0.01959 |\n",
    "| M20.7   | Скажите, пожалуйста, назначена ли Вам какая-нибудь группа по инвалидности? | 0.01860 |\n",
    "| M2.1    | Как изменился Ваш вес в течение последних 12-ти месяцев? | 0.01760 |\n",
    "| M72     | Вспомните, пожалуйста, когда Вы начали курить? Сколько Вам тогда было лет? | 0.01299 |\n",
    "| M170    | Скажите, пожалуйста, Вы счастливы? | 0.01172 |\n",
    "| M58.1   | Говорил ли Вам врач, что у Вас повышенное артериальное давление? | 0.01151 |\n",
    "| M149    | По какой цене Вы обычно покупаете пачку сигарет, папирос, табака, которые курите? | 0.01109 |\n",
    "| M75     | Сколько примерно штук сигарет или папирос Вы обычно выкуриваете за день? | 0.01089 |\n",
    "| M20.61  | Есть ли у Вас хронические заболевания сердца? | 0.01076 |\n",
    "| M114    | Какой из вариантов описания лучше всего соответствует Вашим занятиям физкультурой? Пожалуйста, не учитывайте нагрузки на работе | 0.01074 |\n",
    "| M64     | Вы пользуетесь очками или контактными линзами? | 0.01019 |\n",
    "| M131    | В течение последних 12-ти месяцев у Вас были серьезные нервные расстройства, депрессии?  | 0.00970 |\n",
    "| M84.5B  | Cколько грамм водки или других крепких напитков Вы обычно выпивали за день?  | 0.00939 |\n",
    "| M20.66  | Есть ли у Вас хронические заболевания позвоночника? | 0.00936 |\n",
    "| M20.65  | Есть ли у Вас хронические заболевания желудочно-кишечного тракта? | 0.00914 |\n",
    "| M117.0  | За последние 30 дней Вы принимали какие-либо витамины, минеральные вещества, биологически активные добавки? | 0.00891 |\n",
    "| M78     | Сколько лет тому назад Вы бросили курить? | 0.00886 |\n",
    "| M84.5D  | Сколько дней в месяц пили водку или другие крепкие напитки? | 0.00883 |\n",
    "| M81     | Как часто Вы употребляли алкогольные напитки в течение последних 30 дней?  | 0.00876 |\n",
    "| M418    | Вы испытываете чувство одиночества? | 0.00874 |"
   ]
  },
  {
   "cell_type": "markdown",
   "metadata": {},
   "source": [
    "По данной таблице видно, что:\n",
    "- Наибольшее влияние имеет возраст. Этого логично ожидать, учитывая то, что в выборке рассматриваются широкий диапазон возрастов, с представиталями как допенсионного, так и пенсионного возраста\n",
    "- Социальные факторы (регион проживания, уровень образования, семейное положение) влияют сильнее, чем медицинские. Такой эффект тоже легко объяснить гетерогенностью выборки, различиями в уровне безработицы в различных регионах, различиями в возможностях у людей с различным уровнем образования\n",
    "\n",
    "Попробуем разбить выборку на несколько групп по признакам, имеющим наибольшее влияние:\n",
    "- Возраст (AGE), и отдельно - принадлежность к пенсионному возрасту\n",
    "- Регион проживания и статус населённого пункта (STATUS) и отдельно - проверим, насколько влияет проживание в Москве\n",
    "- Законченное образование"
   ]
  },
  {
   "cell_type": "markdown",
   "metadata": {},
   "source": [
    "### Возраст\n",
    "Разобьём выборку на группы по пять лет и обучим независимую модель для каждой возрастной группы"
   ]
  },
  {
   "cell_type": "code",
   "execution_count": 129,
   "metadata": {},
   "outputs": [
    {
     "name": "stdout",
     "output_type": "stream",
     "text": [
      "AGE condition filters 33272 elements, 12114 is still there\n",
      "People with age 45 - 49\n",
      "Confusion matrix:\n",
      "[[2399   38]\n",
      " [ 426  166]]\n",
      "Error fraction: 0.15318586992406735\n",
      "f1 score: 0.911820600532117\n",
      "precision score: 0.8492035398230089\n",
      "recall score: 0.9844070578580222\n",
      "\n",
      "\n",
      "AGE condition filters 32729 elements, 12657 is still there\n",
      "People with age 50 - 54\n",
      "Confusion matrix:\n",
      "[[2307   53]\n",
      " [ 553  252]]\n",
      "Error fraction: 0.19146919431279621\n",
      "f1 score: 0.8839080459770114\n",
      "precision score: 0.8066433566433566\n",
      "recall score: 0.9775423728813559\n",
      "\n",
      "\n",
      "AGE condition filters 32124 elements, 13262 is still there\n",
      "People with age 55 - 59\n",
      "Confusion matrix:\n",
      "[[1518  308]\n",
      " [ 547  943]]\n",
      "Error fraction: 0.25784077201447525\n",
      "f1 score: 0.7802621434078643\n",
      "precision score: 0.7351089588377724\n",
      "recall score: 0.8313253012048193\n",
      "\n",
      "\n",
      "AGE condition filters 38033 elements, 7353 is still there\n",
      "People with age 60 - 64\n",
      "Confusion matrix:\n",
      "[[ 227  438]\n",
      " [  79 1095]]\n",
      "Error fraction: 0.2811310494834149\n",
      "f1 score: 0.4675592173017508\n",
      "precision score: 0.7418300653594772\n",
      "recall score: 0.34135338345864663\n",
      "\n",
      "\n"
     ]
    }
   ],
   "source": [
    "AGE_SOURCE_COLUMNS = (Columns.HEALTH_DESCRIPTIONS + Columns.SOCIAL)\n",
    "AGE_SOURCE_COLUMNS.remove(Columns.AGE)\n",
    "\n",
    "AGE_STEP = 5\n",
    "for age_min in range(45, 65, AGE_STEP):\n",
    "    age_max = age_min + AGE_STEP\n",
    "    \n",
    "    aged_people = filter_data(filtered_data, 'AGE', lambda dataset: (age_min <= dataset[Columns.AGE]) & (dataset[Columns.AGE] < age_min + 5))\n",
    "    aged_stats = train_test(aged_people, AGE_SOURCE_COLUMNS, Columns.TARGET, RandomForestClassifier(n_estimators=1000, n_jobs=-1))\n",
    "    print('People with age {} - {}'.format(age_min, age_max - 1))\n",
    "    print_classifier_stats(aged_stats)\n",
    "    print('', end='\\n\\n')"
   ]
  },
  {
   "cell_type": "markdown",
   "metadata": {},
   "source": [
    "Видим, что после наступления пенсионного возраста результаты сильно снижаются, однако для возрастной страты 45-49 полученные результаты лучше, чем для общей выборки"
   ]
  },
  {
   "cell_type": "markdown",
   "metadata": {},
   "source": [
    "### Разбивка по принадлежности к пенсионному возрасту"
   ]
  },
  {
   "cell_type": "markdown",
   "metadata": {},
   "source": [
    "Рассмотрим разбивку на предмет принадлежности к пенсионному возрасту. Будем рассматривать только возраст до пенсионной реформы 2019 г., т.к. последняя волна опросов была в 2019, когда возраст ещё не повышался.\n",
    "Итого считаем, что возраст выхода на пенсию 55 лет для женщин и 60 лет для мужчин"
   ]
  },
  {
   "cell_type": "code",
   "execution_count": 141,
   "metadata": {
    "scrolled": false
   },
   "outputs": [
    {
     "name": "stdout",
     "output_type": "stream",
     "text": [
      "Pension condition filters 15256 elements, 30130 is still there\n",
      "People before pension\n",
      "Confusion matrix:\n",
      "[[5498  143]\n",
      " [1220  672]]\n",
      "Error fraction: 0.18093720961104473\n",
      "f1 score: 0.8897159964398415\n",
      "precision score: 0.8183983328371539\n",
      "recall score: 0.9746498847722035\n",
      "\n",
      "\n",
      "Pension condition filters 30130 elements, 15256 is still there\n",
      "People after pension\n",
      "Confusion matrix:\n",
      "[[ 901  658]\n",
      " [ 436 1819]]\n",
      "Error fraction: 0.28683796539066597\n",
      "f1 score: 0.6222375690607735\n",
      "precision score: 0.6738967838444279\n",
      "recall score: 0.5779345734445157\n",
      "\n",
      "\n"
     ]
    }
   ],
   "source": [
    "PENS_SOURCE_COLUMNS = (Columns.HEALTH_DESCRIPTIONS + Columns.SOCIAL)\n",
    "\n",
    "for pension_descriptor in [(False, 'before pension'), (True, 'after pension')]:\n",
    "    pension_value, description = pension_descriptor\n",
    "    \n",
    "    pens_people = filter_data(filtered_data, 'Pension', lambda dataset: (((55 <= dataset[Columns.AGE]) & (dataset[Columns.GENDER] == 2)) | ((60 <= dataset[Columns.AGE]) & (dataset[Columns.GENDER] == 1))) == pension_value)\n",
    "    pens_stats = train_test(pens_people, PENS_SOURCE_COLUMNS, Columns.TARGET, RandomForestClassifier(n_estimators=1000, n_jobs=-1))\n",
    "    print('People {}'.format(description))\n",
    "    print_classifier_stats(pens_stats)\n",
    "    print('', end='\\n\\n')"
   ]
  },
  {
   "cell_type": "markdown",
   "metadata": {},
   "source": [
    "### Законченное образование\n",
    "Разобьём выборку по разным типам полученного образования и обучим независимые модели на остальных признаках"
   ]
  },
  {
   "cell_type": "code",
   "execution_count": 131,
   "metadata": {},
   "outputs": [
    {
     "name": "stdout",
     "output_type": "stream",
     "text": [
      "EDUCATION condition filters 45199 elements, 187 is still there\n",
      "People with 0-6 classes education (id = 1)\n",
      "Confusion matrix:\n",
      "[[ 1  1]\n",
      " [ 0 45]]\n",
      "Error fraction: 0.02127659574468085\n",
      "f1 score: 0.6666666666666666\n",
      "precision score: 1.0\n",
      "recall score: 0.5\n",
      "\n",
      "\n",
      "EDUCATION condition filters 43543 elements, 1843 is still there\n",
      "People with 7-8 classes education (id = 2)\n",
      "Confusion matrix:\n",
      "[[173  45]\n",
      " [ 56 187]]\n",
      "Error fraction: 0.21908893709327548\n",
      "f1 score: 0.7740492170022373\n",
      "precision score: 0.7554585152838428\n",
      "recall score: 0.7935779816513762\n",
      "\n",
      "\n",
      "EDUCATION condition filters 43025 elements, 2361 is still there\n",
      "People with 7-8 classes + smth else education (id = 3)\n",
      "Confusion matrix:\n",
      "[[271  40]\n",
      " [103 177]]\n",
      "Error fraction: 0.24196277495769883\n",
      "f1 score: 0.7912408759124087\n",
      "precision score: 0.7245989304812834\n",
      "recall score: 0.8713826366559485\n",
      "\n",
      "\n",
      "EDUCATION condition filters 27974 elements, 17412 is still there\n",
      "People with finished middle school education (id = 4)\n",
      "Confusion matrix:\n",
      "[[2284  254]\n",
      " [ 726 1089]]\n",
      "Error fraction: 0.22513209280955662\n",
      "f1 score: 0.8233597692862292\n",
      "precision score: 0.7588039867109635\n",
      "recall score: 0.8999211977935382\n",
      "\n",
      "\n",
      "EDUCATION condition filters 32425 elements, 12961 is still there\n",
      "People with finished specialized middle school education (id = 5)\n",
      "Confusion matrix:\n",
      "[[1977  139]\n",
      " [ 543  582]]\n",
      "Error fraction: 0.21042887997531626\n",
      "f1 score: 0.8528904227782571\n",
      "precision score: 0.7845238095238095\n",
      "recall score: 0.9343100189035917\n",
      "\n",
      "\n",
      "EDUCATION condition filters 34834 elements, 10552 is still there\n",
      "People with finished high school education (id = 6)\n",
      "Confusion matrix:\n",
      "[[1931   52]\n",
      " [ 438  217]]\n",
      "Error fraction: 0.18574677786201668\n",
      "f1 score: 0.8874080882352942\n",
      "precision score: 0.8151118615449556\n",
      "recall score: 0.9737771053958648\n",
      "\n",
      "\n"
     ]
    }
   ],
   "source": [
    "EDU_SOURCE_COLUMNS = (Columns.HEALTH_DESCRIPTIONS + Columns.SOCIAL)\n",
    "EDU_SOURCE_COLUMNS.remove(Columns.EDUCATION)\n",
    "\n",
    "EDU_VARIANTS = [\n",
    "    (1, '0-6 classes'),\n",
    "    (2, '7-8 classes'),\n",
    "    (3, '7-8 classes + smth else'),\n",
    "    (4, 'finished middle school'),\n",
    "    (5, 'finished specialized middle school'),\n",
    "    (6, 'finished high school'),\n",
    "]\n",
    "for edu_id, edu_name in EDU_VARIANTS:\n",
    "    educated_people = filter_data(filtered_data, 'EDUCATION', lambda dataset: dataset[Columns.EDUCATION] == edu_id)\n",
    "    educated_stats = train_test(educated_people, EDU_SOURCE_COLUMNS, Columns.TARGET, RandomForestClassifier(n_estimators=1000, n_jobs=-1))\n",
    "    print('People with {} education (id = {})'.format(edu_name, edu_id))\n",
    "    print_classifier_stats(educated_stats)\n",
    "    print('', end='\\n\\n')"
   ]
  },
  {
   "cell_type": "markdown",
   "metadata": {},
   "source": [
    "В данном случае недостаточно прецедентов для обучения на людях с низким уровнем образования (2361 человек с 7-8 классов и каким-то дополнительным), поэтому предлагается их не рассматривать. Тем не менее, для оконченных среднего, среднего специального и высшего уровня образования можно наблюдать неухудшение метрик по сравнению с основной выборкой"
   ]
  },
  {
   "cell_type": "code",
   "execution_count": 145,
   "metadata": {},
   "outputs": [
    {
     "name": "stdout",
     "output_type": "stream",
     "text": [
      "TOWN_STATUS condition filters 27852 elements, 17534 is still there\n",
      "People living in State center\n",
      "Confusion matrix:\n",
      "[[2765  199]\n",
      " [ 753  667]]\n",
      "Error fraction: 0.21715328467153286\n",
      "f1 score: 0.8531317494600432\n",
      "precision score: 0.7859579306424105\n",
      "recall score: 0.9328609986504723\n",
      "\n",
      "\n",
      "TOWN_STATUS condition filters 33261 elements, 12125 is still there\n",
      "People living in Town\n",
      "Confusion matrix:\n",
      "[[1981  100]\n",
      " [ 494  457]]\n",
      "Error fraction: 0.195910290237467\n",
      "f1 score: 0.869622475856014\n",
      "precision score: 0.8004040404040405\n",
      "recall score: 0.9519461797212878\n",
      "\n",
      "\n",
      "TOWN_STATUS condition filters 42222 elements, 3164 is still there\n",
      "People living in Urban-type settlement\n",
      "Confusion matrix:\n",
      "[[440  52]\n",
      " [110 189]]\n",
      "Error fraction: 0.20480404551201012\n",
      "f1 score: 0.8445297504798465\n",
      "precision score: 0.8\n",
      "recall score: 0.8943089430894309\n",
      "\n",
      "\n",
      "TOWN_STATUS condition filters 32823 elements, 12563 is still there\n",
      "People living in Vilage\n",
      "Confusion matrix:\n",
      "[[1493  251]\n",
      " [ 411  986]]\n",
      "Error fraction: 0.2107609041706463\n",
      "f1 score: 0.8185307017543859\n",
      "precision score: 0.7841386554621849\n",
      "recall score: 0.8560779816513762\n",
      "\n",
      "\n"
     ]
    }
   ],
   "source": [
    "TOWN_STATUS_SOURCE_COLUMNS = (Columns.HEALTH_DESCRIPTIONS + Columns.SOCIAL)\n",
    "TOWN_STATUS_SOURCE_COLUMNS.remove(Columns.TOWN_STATUS)\n",
    "\n",
    "POSSIBLE_TOWN_STATUSES = [\n",
    "    (1, 'State center'),\n",
    "    (2, 'Town'),\n",
    "    (3, 'Urban-type settlement'),\n",
    "    (4, 'Vilage')\n",
    "]\n",
    "\n",
    "for (town_status_value, description) in POSSIBLE_TOWN_STATUSES:\n",
    "    town_status_people = filter_data(filtered_data, 'TOWN_STATUS', lambda dataset: dataset[Columns.TOWN_STATUS] == town_status_value)\n",
    "    town_status_stats = train_test(town_status_people, TOWN_STATUS_SOURCE_COLUMNS, Columns.TARGET, RandomForestClassifier(n_estimators=1000, n_jobs=-1))\n",
    "    print('People living in {}'.format(description))\n",
    "    print_classifier_stats(town_status_stats)\n",
    "    print('', end='\\n\\n')"
   ]
  },
  {
   "cell_type": "markdown",
   "metadata": {},
   "source": [
    "Аналогичным образом рассмотрим только жителей Москвы"
   ]
  },
  {
   "cell_type": "code",
   "execution_count": 144,
   "metadata": {},
   "outputs": [
    {
     "name": "stdout",
     "output_type": "stream",
     "text": [
      "Is Moscow condition filters 41818 elements, 3568 is still there\n",
      "People living in Moscow\n",
      "Confusion matrix:\n",
      "[[534  42]\n",
      " [151 165]]\n",
      "Error fraction: 0.2163677130044843\n",
      "f1 score: 0.8469468675654243\n",
      "precision score: 0.7795620437956204\n",
      "recall score: 0.9270833333333334\n",
      "\n",
      "\n"
     ]
    }
   ],
   "source": [
    "MOSCOW_SOURCE_COLUMNS = (Columns.HEALTH_DESCRIPTIONS + Columns.SOCIAL)\n",
    "\n",
    "moscow_people = filter_data(filtered_data, 'Is Moscow', lambda dataset: dataset[Columns.REGION] == 138)\n",
    "moscow_stats = train_test(moscow_people, MOSCOW_SOURCE_COLUMNS, Columns.TARGET, RandomForestClassifier(n_estimators=1000, n_jobs=-1))\n",
    "print('People living in Moscow')\n",
    "print_classifier_stats(moscow_stats)\n",
    "print('', end='\\n\\n')"
   ]
  },
  {
   "cell_type": "markdown",
   "metadata": {},
   "source": [
    "Как видим, результаты почти не отличаются от результата для всех городских жителей, то есть нет необходимости в дополнительной разбивке"
   ]
  },
  {
   "cell_type": "markdown",
   "metadata": {},
   "source": [
    "### Только медицинские признаки, разбивка по пенсионному возрасту"
   ]
  },
  {
   "cell_type": "markdown",
   "metadata": {},
   "source": [
    "Как видим по разбивкам выше, сильнее всего на разбивку влияет принадлежность к пенсионному возрасту. При этом выборка слишком маленькая, чтобы проверить все комбинации разбивок, предлагается рассматривать только разбивку по пенсионному возрасту.\n",
    "Рассмотрим разбивку по пенсионному возрасту, но в качестве признаков будем использовать только поля, связанные со здоровьем, без социальных признаков"
   ]
  },
  {
   "cell_type": "code",
   "execution_count": 153,
   "metadata": {},
   "outputs": [
    {
     "name": "stdout",
     "output_type": "stream",
     "text": [
      "Pension condition filters 15256 elements, 30130 is still there\n",
      "People before pension\n",
      "Confusion matrix:\n",
      "[[5435  193]\n",
      " [1291  614]]\n",
      "Error fraction: 0.19699986725076332\n",
      "f1 score: 0.8798769629269872\n",
      "precision score: 0.8080582812964615\n",
      "recall score: 0.9657071783937455\n",
      "\n",
      "feature M1      has weight 0.07056\n",
      "feature M2      has weight 0.06649\n",
      "feature M3      has weight 0.03591\n",
      "feature M20.9Y  has weight 0.03055\n",
      "feature M152    has weight 0.02830\n",
      "feature M20.8   has weight 0.02829\n",
      "feature M20.7   has weight 0.02688\n",
      "feature M2.1    has weight 0.02555\n",
      "feature M72     has weight 0.02093\n",
      "feature M149    has weight 0.01747\n",
      "feature M75     has weight 0.01716\n",
      "feature M170    has weight 0.01597\n",
      "feature M58.1   has weight 0.01558\n",
      "feature M64     has weight 0.01555\n",
      "feature M84.5B  has weight 0.01401\n",
      "feature M114    has weight 0.01371\n",
      "feature M84.5D  has weight 0.01338\n",
      "feature M131    has weight 0.01316\n",
      "feature M20.614 has weight 0.01296\n",
      "feature M81     has weight 0.01256\n",
      "feature M20.66  has weight 0.01227\n",
      "feature M78     has weight 0.01199\n",
      "feature M150    has weight 0.01190\n",
      "feature M79     has weight 0.01139\n",
      "feature M20.65  has weight 0.01130\n",
      "feature M418    has weight 0.01101\n",
      "feature M117.0  has weight 0.01041\n",
      "feature M20.61  has weight 0.01026\n",
      "feature M74     has weight 0.00957\n",
      "feature M20.69  has weight 0.00950\n",
      "\n",
      "\n",
      "Pension condition filters 30130 elements, 15256 is still there\n",
      "People after pension\n",
      "Confusion matrix:\n",
      "[[ 822  794]\n",
      " [ 400 1798]]\n",
      "Error fraction: 0.3130571578395385\n",
      "f1 score: 0.5792811839323467\n",
      "precision score: 0.6726677577741408\n",
      "recall score: 0.5086633663366337\n",
      "\n",
      "feature M1      has weight 0.07992\n",
      "feature M2      has weight 0.07231\n",
      "feature M152    has weight 0.03396\n",
      "feature M2.1    has weight 0.02824\n",
      "feature M3      has weight 0.02782\n",
      "feature M114    has weight 0.01821\n",
      "feature M170    has weight 0.01737\n",
      "feature M58.1   has weight 0.01640\n",
      "feature M20.65  has weight 0.01588\n",
      "feature M20.66  has weight 0.01468\n",
      "feature M117.0  has weight 0.01448\n",
      "feature M20.61  has weight 0.01444\n",
      "feature M131    has weight 0.01368\n",
      "feature M20.9Y  has weight 0.01363\n",
      "feature M418    has weight 0.01330\n",
      "feature M20.610 has weight 0.01308\n",
      "feature M20.614 has weight 0.01283\n",
      "feature M20.69  has weight 0.01273\n",
      "feature M72     has weight 0.01256\n",
      "feature M64     has weight 0.01224\n",
      "feature M20.8   has weight 0.01199\n",
      "feature M117.1  has weight 0.01056\n",
      "feature M84.5B  has weight 0.01055\n",
      "feature M20.7   has weight 0.01027\n",
      "feature M81     has weight 0.01024\n",
      "feature M75     has weight 0.01023\n",
      "feature M20.63  has weight 0.00998\n",
      "feature M20.616 has weight 0.00997\n",
      "feature M149    has weight 0.00988\n",
      "feature M78     has weight 0.00987\n",
      "\n",
      "\n"
     ]
    }
   ],
   "source": [
    "for pension_descriptor in [(False, 'before pension'), (True, 'after pension')]:\n",
    "    pension_value, description = pension_descriptor\n",
    "    \n",
    "    pens_people = filter_data(filtered_data, 'Pension', lambda dataset: (((55 <= dataset[Columns.AGE]) & (dataset[Columns.GENDER] == 2)) | ((60 <= dataset[Columns.AGE]) & (dataset[Columns.GENDER] == 1))) == pension_value)\n",
    "    pens_stats = train_test(pens_people, Columns.HEALTH_DESCRIPTIONS, Columns.TARGET, RandomForestClassifier(n_estimators=1000, n_jobs=-1, random_state=1234))\n",
    "    print('People {}'.format(description))\n",
    "    print_classifier_stats(pens_stats)\n",
    "    print('')\n",
    "    for feature_name, feature_weight in pens_stats.feature_weights[:30]:\n",
    "        print('feature {:7} has weight {:.5f}'.format(feature_name, feature_weight))\n",
    "    print('', end='\\n\\n')"
   ]
  },
  {
   "cell_type": "markdown",
   "metadata": {},
   "source": [
    "Расшифровка полученных признаков для допенсионного возраста:\n",
    "\n",
    "| Код признака | Расшифровка | Вес признака |\n",
    "| --- | :- | --- |\n",
    "| M1      | Сколько килограмм Вы весите? | 0.07142 |\n",
    "| M2      | А какой у Вас рост в сантиметрах?  | 0.06718 |\n",
    "| M3      | Скажите, пожалуйста, как Вы оцениваете Ваше здоровье? | 0.03673 |\n",
    "| M20.9Y  | Когда Вам была назначена инвалидность? (ГОД) | 0.02988 |\n",
    "| M152    | Удается ли Вам в целом питаться регулярно, не реже 3-х раз в день, изо дня в день? | 0.02843 |\n",
    "| M20.8   | Какая группа инвалидности Вам назначена? | 0.02723 |\n",
    "| M20.7   | Скажите, пожалуйста, назначена ли Вам какая-нибудь группа по инвалидности? | 0.02592 |\n",
    "| M2.1    | Как изменился Ваш вес в течение последних 12-ти месяцев?  | 0.02535 |\n",
    "| M72     | Вспомните, пожалуйста, когда Вы начали курить? Сколько Вам тогда было лет? | 0.02120 |\n",
    "| M149    | По какой цене Вы обычно покупаете пачку сигарет, папирос, табака, которые курите? | 0.01776 |\n",
    "| M75     | Сколько примерно штук сигарет или папирос Вы обычно выкуриваете за день?  | 0.01761 |\n",
    "| M170    | Скажите, пожалуйста, Вы счастливы? | 0.01603 |\n",
    "| M64     | Вы пользуетесь очками или контактными линзами? | 0.01588 |\n",
    "| M58.1   | Говорил ли Вам врач, что у Вас повышенное артериальное давление? | 0.01579 |\n",
    "| M84.5B  | Cколько грамм водки или других крепких напитков Вы обычно выпивали за день? | 0.01372 |\n",
    "| M131    | В течение последних 12-ти месяцев у Вас были серьезные нервные расстройства, депрессии? | 0.01348 |\n",
    "| M114    | Какой из вариантов описания лучше всего соответствует Вашим занятиям физкультурой? Пожалуйста, не учитывайте нагрузки на работе | 0.01336 |\n",
    "| M20.614 | Есть ли у Вас хронические гинекологические заболевания? | 0.01278 |\n",
    "| M84.5D  | Сколько дней в месяц пили водку или другие крепкие напитки? | 0.01271 |\n",
    "| M20.66  | Есть ли у Вас хронические заболевания позвоночника? | 0.01260 |\n",
    "| M78     | Сколько лет тому назад Вы бросили курить? | 0.01249 |\n",
    "| M81     | Как часто Вы употребляли алкогольные напитки в течение последних 30 дней? | 0.01229 |\n",
    "| M150    | Что Вы предпримите, если цены на сигареты, папиросы, табак, которые Вы обычно курите, вырастут в два раза? | 0.01191 |\n",
    "| M79     | Вспомните, пожалуйста, когда Вы начали курить? Сколько Вам тогда было лет? | 0.01151 |\n",
    "| M418    | Вы испытываете чувство одиночества? | 0.01108 |\n",
    "| M20.65  | Есть ли у Вас хронические заболевания желудочно-кишечного тракта?  | 0.01104 |\n",
    "| M117.0  | За последние 30 дней Вы принимали какие-либо витамины, минеральные вещества, биологически активные добавки? | 0.01029 |\n",
    "| M20.61  | Есть ли у Вас хронические заболевания сердца? | 0.00992 |\n",
    "| M20.69  | Есть ли у Вас гипертоническая болезнь, повышенное артериальное давление? | 0.00956 |\n",
    "| M20.610 | Есть ли у Вас хронические заболевания суставов? | 0.00945 |\n",
    "\n",
    "Аналогичная таблица важности признаков для людей пенсионного возраста:\n",
    "\n",
    "| Код признака | Расшифровка | Вес признака |\n",
    "| --- | :- | --- |\n",
    "| M1      | Сколько килограмм Вы весите? | 0.08062 |\n",
    "| M2      | А какой у Вас рост в сантиметрах? | 0.07263 |\n",
    "| M152    | Удается ли Вам в целом питаться регулярно, не реже 3-х раз в день, изо дня в день? | 0.03274 |\n",
    "| M2.1    | Как изменился Ваш вес в течение последних 12-ти месяцев? | 0.02853 |\n",
    "| M3      | Скажите, пожалуйста, как Вы оцениваете Ваше здоровье? | 0.02694 |\n",
    "| M114    | Какой из вариантов описания лучше всего соответствует Вашим занятиям физкультурой? Пожалуйста, не учитывайте нагрузки на работе | 0.01805 |\n",
    "| M170    | Скажите, пожалуйста, Вы счастливы? | 0.01748 |\n",
    "| M58.1   | Говорил ли Вам врач, что у Вас повышенное артериальное давление? | 0.01564 |\n",
    "| M20.65  | Есть ли у Вас хронические заболевания желудочно-кишечного тракта? | 0.01539 |\n",
    "| M20.66  | Есть ли у Вас хронические заболевания позвоночника? | 0.01511 |\n",
    "| M20.61  | Есть ли у Вас хронические заболевания сердца? | 0.01489 |\n",
    "| M117.0  | За последние 30 дней Вы принимали какие-либо витамины, минеральные вещества, биологически активные добавки? | 0.01489 |\n",
    "| M20.9Y  | Когда Вам была назначена инвалидность? (ГОД) | 0.01426 |\n",
    "| M131    | В течение последних 12-ти месяцев у Вас были серьезные нервные расстройства, депрессии? | 0.01406 |\n",
    "| M20.610 | Есть ли у Вас хронические заболевания суставов? | 0.01362 |\n",
    "| M418    | Вы испытываете чувство одиночества? | 0.01361 |\n",
    "| M20.614 | Есть ли у Вас хронические гинекологические заболевания? | 0.01300 |\n",
    "| M20.69  | Есть ли у Вас гипертоническая болезнь, повышенное артериальное давление? | 0.01258 |\n",
    "| M72     | Вспомните, пожалуйста, когда Вы начали курить? Сколько Вам тогда было лет? | 0.01257 |\n",
    "| M20.8   | Какая группа инвалидности Вам назначена? | 0.01226 |\n",
    "| M64     | Вы пользуетесь очками или контактными линзами? | 0.01222 |\n",
    "| M20.7   | Скажите, пожалуйста, назначена ли Вам какая-нибудь группа по инвалидности? | 0.01073 |\n",
    "| M117.1  | За последние 12 месяцев Вы сидели на какой-нибудь диете? Диетой мы считаем любое изменение в Вашей обычной еде именно для того, чтобы сбросить вес, похудеть, сохранить или улучшить здоровье | 0.01061 |\n",
    "| M20.616 | Есть ли у Вас варикозное расширение вен?  | 0.01017 |\n",
    "| M20.63  | Есть ли у Вас хронические заболевания печени?  | 0.01017 |\n",
    "| M81     | Как часто Вы употребляли алкогольные напитки в течение последних 30 дней?  | 0.01012 |\n",
    "| M84.5B  | Cколько грамм водки или других крепких напитков Вы обычно выпивали за день? | 0.01009 |\n",
    "| M75     | Сколько примерно штук сигарет или папирос Вы обычно выкуриваете за день? | 0.00991 |\n",
    "| M78     | Сколько лет тому назад Вы бросили курить? | 0.00978 |\n",
    "| M20.613 | Есть ли у Вас хронические заболевания глаз? | 0.00969 |"
   ]
  }
 ],
 "metadata": {
  "kernelspec": {
   "display_name": "Python 3",
   "language": "python",
   "name": "python3"
  },
  "language_info": {
   "codemirror_mode": {
    "name": "ipython",
    "version": 3
   },
   "file_extension": ".py",
   "mimetype": "text/x-python",
   "name": "python",
   "nbconvert_exporter": "python",
   "pygments_lexer": "ipython3",
   "version": "3.8.5"
  }
 },
 "nbformat": 4,
 "nbformat_minor": 4
}
